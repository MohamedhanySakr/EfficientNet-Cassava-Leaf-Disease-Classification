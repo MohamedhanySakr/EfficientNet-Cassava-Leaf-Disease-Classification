{
 "cells": [
  {
   "cell_type": "markdown",
   "metadata": {
    "papermill": {
     "duration": 0.033726,
     "end_time": "2021-01-07T18:29:20.886407",
     "exception": false,
     "start_time": "2021-01-07T18:29:20.852681",
     "status": "completed"
    },
    "tags": []
   },
   "source": [
    "# Keras EfficientNet\n",
    "I'll use EfficientNetB0 in this notebook"
   ]
  },
  {
   "cell_type": "code",
   "execution_count": null,
   "metadata": {
    "execution": {
     "iopub.execute_input": "2021-01-07T18:29:20.955317Z",
     "iopub.status.busy": "2021-01-07T18:29:20.954694Z",
     "iopub.status.idle": "2021-01-07T18:29:25.853621Z",
     "shell.execute_reply": "2021-01-07T18:29:25.852911Z"
    },
    "papermill": {
     "duration": 4.936956,
     "end_time": "2021-01-07T18:29:25.853764",
     "exception": false,
     "start_time": "2021-01-07T18:29:20.916808",
     "status": "completed"
    },
    "tags": []
   },
   "outputs": [],
   "source": [
    "import numpy as np\n",
    "import pandas as pd\n",
    "import matplotlib.pyplot as plt\n",
    "import tensorflow as tf\n",
    "from tensorflow.keras import models, layers\n",
    "from tensorflow.keras.preprocessing.image import ImageDataGenerator\n",
    "from keras.callbacks import ModelCheckpoint, EarlyStopping, ReduceLROnPlateau\n",
    "from tensorflow.keras.applications import ResNet50, DenseNet121, EfficientNetB0\n",
    "from keras.optimizers import Adam\n",
    "import os, cv2, json\n",
    "\n",
    "# ignoring warnings\n",
    "import warnings\n",
    "warnings.simplefilter(\"ignore\")"
   ]
  },
  {
   "cell_type": "code",
   "execution_count": null,
   "metadata": {
    "execution": {
     "iopub.execute_input": "2021-01-07T18:29:25.920973Z",
     "iopub.status.busy": "2021-01-07T18:29:25.920241Z",
     "iopub.status.idle": "2021-01-07T18:29:25.929072Z",
     "shell.execute_reply": "2021-01-07T18:29:25.928563Z"
    },
    "papermill": {
     "duration": 0.042372,
     "end_time": "2021-01-07T18:29:25.929175",
     "exception": false,
     "start_time": "2021-01-07T18:29:25.886803",
     "status": "completed"
    },
    "tags": []
   },
   "outputs": [],
   "source": [
    "# For easy acces to files\n",
    "WORK_DIR = \"../input/cassava-leaf-disease-classification/\"\n",
    "os.listdir(WORK_DIR)"
   ]
  },
  {
   "cell_type": "code",
   "execution_count": null,
   "metadata": {
    "execution": {
     "iopub.execute_input": "2021-01-07T18:29:25.992382Z",
     "iopub.status.busy": "2021-01-07T18:29:25.991772Z",
     "iopub.status.idle": "2021-01-07T18:29:26.003601Z",
     "shell.execute_reply": "2021-01-07T18:29:26.003061Z"
    },
    "papermill": {
     "duration": 0.044866,
     "end_time": "2021-01-07T18:29:26.003700",
     "exception": false,
     "start_time": "2021-01-07T18:29:25.958834",
     "status": "completed"
    },
    "tags": []
   },
   "outputs": [],
   "source": [
    "with open('../input/cassava-leaf-disease-classification/label_num_to_disease_map.json', 'r') as file:\n",
    "    labels = json.load(file)\n",
    "    \n",
    "labels"
   ]
  },
  {
   "cell_type": "code",
   "execution_count": null,
   "metadata": {
    "execution": {
     "iopub.execute_input": "2021-01-07T18:29:26.106912Z",
     "iopub.status.busy": "2021-01-07T18:29:26.105730Z",
     "iopub.status.idle": "2021-01-07T18:29:26.159630Z",
     "shell.execute_reply": "2021-01-07T18:29:26.160986Z"
    },
    "papermill": {
     "duration": 0.11794,
     "end_time": "2021-01-07T18:29:26.161152",
     "exception": false,
     "start_time": "2021-01-07T18:29:26.043212",
     "status": "completed"
    },
    "tags": []
   },
   "outputs": [],
   "source": [
    "data = pd.read_csv(WORK_DIR + \"train.csv\")"
   ]
  },
  {
   "cell_type": "code",
   "execution_count": null,
   "metadata": {
    "execution": {
     "iopub.execute_input": "2021-01-07T18:29:26.281969Z",
     "iopub.status.busy": "2021-01-07T18:29:26.278484Z",
     "iopub.status.idle": "2021-01-07T18:29:26.295295Z",
     "shell.execute_reply": "2021-01-07T18:29:26.296354Z"
    },
    "papermill": {
     "duration": 0.075739,
     "end_time": "2021-01-07T18:29:26.296529",
     "exception": false,
     "start_time": "2021-01-07T18:29:26.220790",
     "status": "completed"
    },
    "tags": []
   },
   "outputs": [],
   "source": [
    "data.head()"
   ]
  },
  {
   "cell_type": "code",
   "execution_count": null,
   "metadata": {
    "execution": {
     "iopub.execute_input": "2021-01-07T18:29:26.396874Z",
     "iopub.status.busy": "2021-01-07T18:29:26.395984Z",
     "iopub.status.idle": "2021-01-07T18:29:26.400752Z",
     "shell.execute_reply": "2021-01-07T18:29:26.401439Z"
    },
    "papermill": {
     "duration": 0.058935,
     "end_time": "2021-01-07T18:29:26.401603",
     "exception": false,
     "start_time": "2021-01-07T18:29:26.342668",
     "status": "completed"
    },
    "tags": []
   },
   "outputs": [],
   "source": [
    "data.dtypes"
   ]
  },
  {
   "cell_type": "code",
   "execution_count": null,
   "metadata": {
    "execution": {
     "iopub.execute_input": "2021-01-07T18:29:26.536150Z",
     "iopub.status.busy": "2021-01-07T18:29:26.535349Z",
     "iopub.status.idle": "2021-01-07T18:29:26.540348Z",
     "shell.execute_reply": "2021-01-07T18:29:26.541365Z"
    },
    "papermill": {
     "duration": 0.095203,
     "end_time": "2021-01-07T18:29:26.541518",
     "exception": false,
     "start_time": "2021-01-07T18:29:26.446315",
     "status": "completed"
    },
    "tags": []
   },
   "outputs": [],
   "source": [
    "#change for the ImageDatagen and flow_from_dataframe\n",
    "data.label = data.label.astype(\"str\")"
   ]
  },
  {
   "cell_type": "code",
   "execution_count": null,
   "metadata": {
    "execution": {
     "iopub.execute_input": "2021-01-07T18:29:26.647687Z",
     "iopub.status.busy": "2021-01-07T18:29:26.646903Z",
     "iopub.status.idle": "2021-01-07T18:29:26.653646Z",
     "shell.execute_reply": "2021-01-07T18:29:26.654225Z"
    },
    "papermill": {
     "duration": 0.064266,
     "end_time": "2021-01-07T18:29:26.654411",
     "exception": false,
     "start_time": "2021-01-07T18:29:26.590145",
     "status": "completed"
    },
    "tags": []
   },
   "outputs": [],
   "source": [
    "data.dtypes"
   ]
  },
  {
   "cell_type": "code",
   "execution_count": null,
   "metadata": {
    "execution": {
     "iopub.execute_input": "2021-01-07T18:29:26.777647Z",
     "iopub.status.busy": "2021-01-07T18:29:26.776474Z",
     "iopub.status.idle": "2021-01-07T18:29:26.780712Z",
     "shell.execute_reply": "2021-01-07T18:29:26.778523Z"
    },
    "papermill": {
     "duration": 0.067079,
     "end_time": "2021-01-07T18:29:26.780840",
     "exception": false,
     "start_time": "2021-01-07T18:29:26.713761",
     "status": "completed"
    },
    "tags": []
   },
   "outputs": [],
   "source": [
    "data.shape[0]"
   ]
  },
  {
   "cell_type": "code",
   "execution_count": null,
   "metadata": {
    "execution": {
     "iopub.execute_input": "2021-01-07T18:29:26.930261Z",
     "iopub.status.busy": "2021-01-07T18:29:26.929469Z",
     "iopub.status.idle": "2021-01-07T18:29:26.940223Z",
     "shell.execute_reply": "2021-01-07T18:29:26.941613Z"
    },
    "papermill": {
     "duration": 0.074835,
     "end_time": "2021-01-07T18:29:26.941759",
     "exception": false,
     "start_time": "2021-01-07T18:29:26.866924",
     "status": "completed"
    },
    "tags": []
   },
   "outputs": [],
   "source": [
    "data.label.value_counts()"
   ]
  },
  {
   "cell_type": "markdown",
   "metadata": {
    "papermill": {
     "duration": 0.034638,
     "end_time": "2021-01-07T18:29:27.026076",
     "exception": false,
     "start_time": "2021-01-07T18:29:26.991438",
     "status": "completed"
    },
    "tags": []
   },
   "source": [
    "### **We have 21397 images for training and don't have an equal number of photos for each class.** \n",
    "\n",
    " I don't know how to deal with the unbalanced image dataset so I'll leave it to the next version."
   ]
  },
  {
   "cell_type": "markdown",
   "metadata": {
    "papermill": {
     "duration": 0.044587,
     "end_time": "2021-01-07T18:29:27.111506",
     "exception": false,
     "start_time": "2021-01-07T18:29:27.066919",
     "status": "completed"
    },
    "tags": []
   },
   "source": [
    "# Image Visualization\n",
    "\n",
    "\n",
    "#### Let's first visualize the general data set. \n",
    "#### Visualize by class later"
   ]
  },
  {
   "cell_type": "code",
   "execution_count": null,
   "metadata": {
    "execution": {
     "iopub.execute_input": "2021-01-07T18:29:27.208587Z",
     "iopub.status.busy": "2021-01-07T18:29:27.207668Z",
     "iopub.status.idle": "2021-01-07T18:29:27.209987Z",
     "shell.execute_reply": "2021-01-07T18:29:27.209356Z"
    },
    "papermill": {
     "duration": 0.054329,
     "end_time": "2021-01-07T18:29:27.210102",
     "exception": false,
     "start_time": "2021-01-07T18:29:27.155773",
     "status": "completed"
    },
    "tags": []
   },
   "outputs": [],
   "source": [
    "IMG_SIZE = 300"
   ]
  },
  {
   "cell_type": "code",
   "execution_count": null,
   "metadata": {
    "execution": {
     "iopub.execute_input": "2021-01-07T18:29:27.319947Z",
     "iopub.status.busy": "2021-01-07T18:29:27.319131Z",
     "iopub.status.idle": "2021-01-07T18:29:28.450432Z",
     "shell.execute_reply": "2021-01-07T18:29:28.451048Z"
    },
    "papermill": {
     "duration": 1.192953,
     "end_time": "2021-01-07T18:29:28.451196",
     "exception": false,
     "start_time": "2021-01-07T18:29:27.258243",
     "status": "completed"
    },
    "tags": []
   },
   "outputs": [],
   "source": [
    "plt.figure(figsize=(15,12))\n",
    "data_sample = data.sample(9).reset_index(drop=True)\n",
    "\n",
    "for i in range(8):\n",
    "    plt.subplot(2,4,i+1)\n",
    "    \n",
    "    img = cv2.imread(WORK_DIR + \"train_images/\" + data_sample.image_id[i])\n",
    "    img = cv2.resize(img, (IMG_SIZE, IMG_SIZE))\n",
    "    img = cv2.cvtColor(img, cv2.COLOR_BGR2RGB)\n",
    "    \n",
    "    plt.axis(\"off\")\n",
    "    plt.imshow(img)\n",
    "    plt.title(labels.get(data_sample.label[i]))\n",
    "    \n",
    "plt.tight_layout()\n",
    "plt.show()"
   ]
  },
  {
   "cell_type": "markdown",
   "metadata": {
    "papermill": {
     "duration": 0.05915,
     "end_time": "2021-01-07T18:29:28.570910",
     "exception": false,
     "start_time": "2021-01-07T18:29:28.511760",
     "status": "completed"
    },
    "tags": []
   },
   "source": [
    "**Cassava Bacterial Blight (CBB)**"
   ]
  },
  {
   "cell_type": "code",
   "execution_count": null,
   "metadata": {
    "execution": {
     "iopub.execute_input": "2021-01-07T18:29:28.697782Z",
     "iopub.status.busy": "2021-01-07T18:29:28.696857Z",
     "iopub.status.idle": "2021-01-07T18:29:28.701309Z",
     "shell.execute_reply": "2021-01-07T18:29:28.700715Z"
    },
    "papermill": {
     "duration": 0.071022,
     "end_time": "2021-01-07T18:29:28.701422",
     "exception": false,
     "start_time": "2021-01-07T18:29:28.630400",
     "status": "completed"
    },
    "tags": []
   },
   "outputs": [],
   "source": [
    "labels.get(\"0\")"
   ]
  },
  {
   "cell_type": "code",
   "execution_count": null,
   "metadata": {
    "execution": {
     "iopub.execute_input": "2021-01-07T18:29:28.834081Z",
     "iopub.status.busy": "2021-01-07T18:29:28.828861Z",
     "iopub.status.idle": "2021-01-07T18:29:29.338578Z",
     "shell.execute_reply": "2021-01-07T18:29:29.339295Z"
    },
    "papermill": {
     "duration": 0.578757,
     "end_time": "2021-01-07T18:29:29.339447",
     "exception": false,
     "start_time": "2021-01-07T18:29:28.760690",
     "status": "completed"
    },
    "tags": []
   },
   "outputs": [],
   "source": [
    "plt.figure(figsize=(15,12))\n",
    "data_sample = data[data.label==\"0\"].sample(4).reset_index(drop=True)\n",
    "for i in range(4):\n",
    "    plt.subplot(1,4,i+1)\n",
    "    \n",
    "    img = cv2.imread(WORK_DIR + \"train_images/\" + data_sample.image_id[i])\n",
    "    img = cv2.resize(img, (IMG_SIZE, IMG_SIZE))\n",
    "    img = cv2.cvtColor(img, cv2.COLOR_BGR2RGB)\n",
    "    \n",
    "    plt.axis(\"off\")\n",
    "    plt.imshow(img)\n",
    "    plt.title(labels.get(data_sample.label[i]))\n",
    "    \n",
    "plt.tight_layout()\n",
    "plt.show()"
   ]
  },
  {
   "cell_type": "markdown",
   "metadata": {
    "papermill": {
     "duration": 0.073031,
     "end_time": "2021-01-07T18:29:29.487792",
     "exception": false,
     "start_time": "2021-01-07T18:29:29.414761",
     "status": "completed"
    },
    "tags": []
   },
   "source": [
    "**Cassava Brown Streak Disease (CBSD)**"
   ]
  },
  {
   "cell_type": "code",
   "execution_count": null,
   "metadata": {
    "execution": {
     "iopub.execute_input": "2021-01-07T18:29:29.640813Z",
     "iopub.status.busy": "2021-01-07T18:29:29.639974Z",
     "iopub.status.idle": "2021-01-07T18:29:29.644165Z",
     "shell.execute_reply": "2021-01-07T18:29:29.643653Z"
    },
    "papermill": {
     "duration": 0.083175,
     "end_time": "2021-01-07T18:29:29.644301",
     "exception": false,
     "start_time": "2021-01-07T18:29:29.561126",
     "status": "completed"
    },
    "tags": []
   },
   "outputs": [],
   "source": [
    "labels.get(\"1\")"
   ]
  },
  {
   "cell_type": "code",
   "execution_count": null,
   "metadata": {
    "execution": {
     "iopub.execute_input": "2021-01-07T18:29:29.820611Z",
     "iopub.status.busy": "2021-01-07T18:29:29.819537Z",
     "iopub.status.idle": "2021-01-07T18:29:30.243129Z",
     "shell.execute_reply": "2021-01-07T18:29:30.243706Z"
    },
    "papermill": {
     "duration": 0.512689,
     "end_time": "2021-01-07T18:29:30.243845",
     "exception": false,
     "start_time": "2021-01-07T18:29:29.731156",
     "status": "completed"
    },
    "tags": []
   },
   "outputs": [],
   "source": [
    "plt.figure(figsize=(15,12))\n",
    "data_sample = data[data.label==\"1\"].sample(4).reset_index(drop=True)\n",
    "for i in range(4):\n",
    "    plt.subplot(1,4,i+1)\n",
    "    \n",
    "    img = cv2.imread(WORK_DIR + \"train_images/\" + data_sample.image_id[i])\n",
    "    img = cv2.resize(img, (IMG_SIZE, IMG_SIZE))\n",
    "    img = cv2.cvtColor(img, cv2.COLOR_BGR2RGB)\n",
    "    \n",
    "    plt.axis(\"off\")\n",
    "    plt.imshow(img)\n",
    "    plt.title(labels.get(data_sample.label[i]))\n",
    "    \n",
    "plt.tight_layout()\n",
    "plt.show()"
   ]
  },
  {
   "cell_type": "markdown",
   "metadata": {
    "papermill": {
     "duration": 0.088103,
     "end_time": "2021-01-07T18:29:30.420127",
     "exception": false,
     "start_time": "2021-01-07T18:29:30.332024",
     "status": "completed"
    },
    "tags": []
   },
   "source": [
    "**Cassava Green Mottle (CGM)**"
   ]
  },
  {
   "cell_type": "code",
   "execution_count": null,
   "metadata": {
    "execution": {
     "iopub.execute_input": "2021-01-07T18:29:30.607424Z",
     "iopub.status.busy": "2021-01-07T18:29:30.606562Z",
     "iopub.status.idle": "2021-01-07T18:29:30.610068Z",
     "shell.execute_reply": "2021-01-07T18:29:30.610630Z"
    },
    "papermill": {
     "duration": 0.10001,
     "end_time": "2021-01-07T18:29:30.610758",
     "exception": false,
     "start_time": "2021-01-07T18:29:30.510748",
     "status": "completed"
    },
    "tags": []
   },
   "outputs": [],
   "source": [
    "labels.get(\"2\")"
   ]
  },
  {
   "cell_type": "code",
   "execution_count": null,
   "metadata": {
    "execution": {
     "iopub.execute_input": "2021-01-07T18:29:30.804122Z",
     "iopub.status.busy": "2021-01-07T18:29:30.802972Z",
     "iopub.status.idle": "2021-01-07T18:29:31.295614Z",
     "shell.execute_reply": "2021-01-07T18:29:31.296179Z"
    },
    "papermill": {
     "duration": 0.596787,
     "end_time": "2021-01-07T18:29:31.296349",
     "exception": false,
     "start_time": "2021-01-07T18:29:30.699562",
     "status": "completed"
    },
    "tags": []
   },
   "outputs": [],
   "source": [
    "plt.figure(figsize=(15,12))\n",
    "data_sample = data[data.label==\"2\"].sample(4).reset_index(drop=True)\n",
    "for i in range(4):\n",
    "    plt.subplot(1,4,i+1)\n",
    "    \n",
    "    img = cv2.imread(WORK_DIR + \"train_images/\" + data_sample.image_id[i])\n",
    "    img = cv2.resize(img, (IMG_SIZE, IMG_SIZE))\n",
    "    img = cv2.cvtColor(img, cv2.COLOR_BGR2RGB)\n",
    "    \n",
    "    plt.axis(\"off\")\n",
    "    plt.imshow(img)\n",
    "    plt.title(labels.get(data_sample.label[i]))\n",
    "    \n",
    "plt.tight_layout()\n",
    "plt.show()"
   ]
  },
  {
   "cell_type": "markdown",
   "metadata": {
    "papermill": {
     "duration": 0.109268,
     "end_time": "2021-01-07T18:29:31.507687",
     "exception": false,
     "start_time": "2021-01-07T18:29:31.398419",
     "status": "completed"
    },
    "tags": []
   },
   "source": [
    "**Cassava Mosaic Disease (CMD)**"
   ]
  },
  {
   "cell_type": "code",
   "execution_count": null,
   "metadata": {
    "execution": {
     "iopub.execute_input": "2021-01-07T18:29:31.724015Z",
     "iopub.status.busy": "2021-01-07T18:29:31.722835Z",
     "iopub.status.idle": "2021-01-07T18:29:31.726546Z",
     "shell.execute_reply": "2021-01-07T18:29:31.727042Z"
    },
    "papermill": {
     "duration": 0.114463,
     "end_time": "2021-01-07T18:29:31.727166",
     "exception": false,
     "start_time": "2021-01-07T18:29:31.612703",
     "status": "completed"
    },
    "tags": []
   },
   "outputs": [],
   "source": [
    "labels.get(\"3\")"
   ]
  },
  {
   "cell_type": "code",
   "execution_count": null,
   "metadata": {
    "execution": {
     "iopub.execute_input": "2021-01-07T18:29:31.961918Z",
     "iopub.status.busy": "2021-01-07T18:29:31.956726Z",
     "iopub.status.idle": "2021-01-07T18:29:32.686163Z",
     "shell.execute_reply": "2021-01-07T18:29:32.687023Z"
    },
    "papermill": {
     "duration": 0.853654,
     "end_time": "2021-01-07T18:29:32.687224",
     "exception": false,
     "start_time": "2021-01-07T18:29:31.833570",
     "status": "completed"
    },
    "tags": []
   },
   "outputs": [],
   "source": [
    "plt.figure(figsize=(15,12))\n",
    "data_sample = data[data.label==\"3\"].sample(4).reset_index(drop=True)\n",
    "for i in range(4):\n",
    "    plt.subplot(1,4,i+1)\n",
    "    \n",
    "    img = cv2.imread(WORK_DIR + \"train_images/\" + data_sample.image_id[i])\n",
    "    img = cv2.resize(img, (IMG_SIZE, IMG_SIZE))\n",
    "    img = cv2.cvtColor(img, cv2.COLOR_BGR2RGB)\n",
    "    \n",
    "    plt.axis(\"off\")\n",
    "    plt.imshow(img)\n",
    "    plt.title(labels.get(data_sample.label[i]))\n",
    "    \n",
    "plt.tight_layout()\n",
    "plt.show()"
   ]
  },
  {
   "cell_type": "markdown",
   "metadata": {
    "papermill": {
     "duration": 0.134611,
     "end_time": "2021-01-07T18:29:32.998078",
     "exception": false,
     "start_time": "2021-01-07T18:29:32.863467",
     "status": "completed"
    },
    "tags": []
   },
   "source": [
    "**Healthy**"
   ]
  },
  {
   "cell_type": "code",
   "execution_count": null,
   "metadata": {
    "execution": {
     "iopub.execute_input": "2021-01-07T18:29:33.279777Z",
     "iopub.status.busy": "2021-01-07T18:29:33.278464Z",
     "iopub.status.idle": "2021-01-07T18:29:33.282851Z",
     "shell.execute_reply": "2021-01-07T18:29:33.282367Z"
    },
    "papermill": {
     "duration": 0.160198,
     "end_time": "2021-01-07T18:29:33.282955",
     "exception": false,
     "start_time": "2021-01-07T18:29:33.122757",
     "status": "completed"
    },
    "tags": []
   },
   "outputs": [],
   "source": [
    "labels.get(\"4\")"
   ]
  },
  {
   "cell_type": "code",
   "execution_count": null,
   "metadata": {
    "execution": {
     "iopub.execute_input": "2021-01-07T18:29:33.545168Z",
     "iopub.status.busy": "2021-01-07T18:29:33.539972Z",
     "iopub.status.idle": "2021-01-07T18:29:34.042664Z",
     "shell.execute_reply": "2021-01-07T18:29:34.043149Z"
    },
    "papermill": {
     "duration": 0.639295,
     "end_time": "2021-01-07T18:29:34.043313",
     "exception": false,
     "start_time": "2021-01-07T18:29:33.404018",
     "status": "completed"
    },
    "tags": []
   },
   "outputs": [],
   "source": [
    "plt.figure(figsize=(15,12))\n",
    "data_sample = data[data.label==\"4\"].sample(4).reset_index(drop=True)\n",
    "for i in range(4):\n",
    "    plt.subplot(1,4,i+1)\n",
    "    \n",
    "    img = cv2.imread(WORK_DIR + \"train_images/\" + data_sample.image_id[i])\n",
    "    img = cv2.resize(img, (IMG_SIZE, IMG_SIZE))\n",
    "    img = cv2.cvtColor(img, cv2.COLOR_BGR2RGB)\n",
    "    \n",
    "    plt.axis(\"off\")\n",
    "    plt.imshow(img)\n",
    "    plt.title(labels.get(data_sample.label[i]))\n",
    "    \n",
    "plt.tight_layout()\n",
    "plt.show()"
   ]
  },
  {
   "cell_type": "markdown",
   "metadata": {
    "papermill": {
     "duration": 0.137615,
     "end_time": "2021-01-07T18:29:34.320222",
     "exception": false,
     "start_time": "2021-01-07T18:29:34.182607",
     "status": "completed"
    },
    "tags": []
   },
   "source": [
    "# Image Preprocessing, Data Augmentetion\n",
    "\n",
    "\n",
    "**ImageDataGenerator:** Generate batches of tensor image data with real-time data augmentation.\n",
    "\n",
    "**flow_from_dataframe:** Takes the dataframe and the path to a directory + generates batches.\n",
    "The generated batches contain augmented/normalized data.\n",
    "\n",
    "\n",
    "https://keras.io/api/preprocessing/image/"
   ]
  },
  {
   "cell_type": "code",
   "execution_count": null,
   "metadata": {
    "execution": {
     "iopub.execute_input": "2021-01-07T18:29:34.645492Z",
     "iopub.status.busy": "2021-01-07T18:29:34.635100Z",
     "iopub.status.idle": "2021-01-07T18:29:53.826551Z",
     "shell.execute_reply": "2021-01-07T18:29:53.827045Z"
    },
    "papermill": {
     "duration": 19.367425,
     "end_time": "2021-01-07T18:29:53.827197",
     "exception": false,
     "start_time": "2021-01-07T18:29:34.459772",
     "status": "completed"
    },
    "tags": []
   },
   "outputs": [],
   "source": [
    "train_generator = ImageDataGenerator(\n",
    "                                    #featurewise_center=False,                                    \n",
    "                                    #samplewise_center=False,\n",
    "                                    #featurewise_std_normalization=False,\n",
    "                                    #samplewise_std_normalization=False, \n",
    "                                    #zca_whitening=False,\n",
    "                                    #zca_epsilon=1e-06,\n",
    "                                    #rotation_range=90,\n",
    "                                    width_shift_range=0.2,\n",
    "                                    height_shift_range=0.2,\n",
    "                                    #brightness_range=None,\n",
    "                                    shear_range=25,\n",
    "                                    zoom_range=0.3,\n",
    "                                    #channel_shift_range=0.0,\n",
    "                                    #fill_mode=\"nearest\",\n",
    "                                    #cval=0.0,\n",
    "                                    horizontal_flip=True,\n",
    "                                    vertical_flip=True,\n",
    "                                    #rescale=None,\n",
    "                                    #preprocessing_function=None,\n",
    "                                    #data_format=None,\n",
    "                                    validation_split=0.2,\n",
    "                                    #dtype=None,\n",
    ") \\\n",
    "        .flow_from_dataframe(\n",
    "                            data,\n",
    "                            directory = WORK_DIR + \"train_images\",\n",
    "                            x_col = \"image_id\",\n",
    "                            y_col = \"label\",\n",
    "                            #weight_col = None,\n",
    "                            target_size = (IMG_SIZE, IMG_SIZE),\n",
    "                            #color_mode = \"rgb\",\n",
    "                            #classes = None,\n",
    "                            class_mode = \"categorical\",\n",
    "                            batch_size = 32,\n",
    "                            shuffle = True,\n",
    "                            #seed = 34,\n",
    "                            #save_to_dir = None,\n",
    "                            #save_prefix = \"\",\n",
    "                            #save_format = \"png\",\n",
    "                            subset = \"training\",\n",
    "                            #interpolation = \"nearest\",\n",
    "                            #validate_filenames = True\n",
    ")\n"
   ]
  },
  {
   "cell_type": "code",
   "execution_count": null,
   "metadata": {
    "execution": {
     "iopub.execute_input": "2021-01-07T18:29:54.114091Z",
     "iopub.status.busy": "2021-01-07T18:29:54.113213Z",
     "iopub.status.idle": "2021-01-07T18:30:06.739637Z",
     "shell.execute_reply": "2021-01-07T18:30:06.740375Z"
    },
    "papermill": {
     "duration": 12.777686,
     "end_time": "2021-01-07T18:30:06.740607",
     "exception": false,
     "start_time": "2021-01-07T18:29:53.962921",
     "status": "completed"
    },
    "tags": []
   },
   "outputs": [],
   "source": [
    "valid_generator = ImageDataGenerator(\n",
    "                                    validation_split = 0.2\n",
    ") \\\n",
    "        .flow_from_dataframe(\n",
    "                            data,\n",
    "                            directory = WORK_DIR + \"train_images\",\n",
    "                            x_col = \"image_id\",\n",
    "                            y_col = \"label\",\n",
    "                            target_size = (IMG_SIZE, IMG_SIZE),\n",
    "                            class_mode = \"categorical\",\n",
    "                            batch_size = 32,\n",
    "                            shuffle = True,\n",
    "                            #seed = 34,\n",
    "                            subset = \"validation\")"
   ]
  },
  {
   "cell_type": "code",
   "execution_count": null,
   "metadata": {
    "execution": {
     "iopub.execute_input": "2021-01-07T18:30:07.019895Z",
     "iopub.status.busy": "2021-01-07T18:30:07.019125Z",
     "iopub.status.idle": "2021-01-07T18:30:07.022084Z",
     "shell.execute_reply": "2021-01-07T18:30:07.022777Z"
    },
    "papermill": {
     "duration": 0.143976,
     "end_time": "2021-01-07T18:30:07.022902",
     "exception": false,
     "start_time": "2021-01-07T18:30:06.878926",
     "status": "completed"
    },
    "tags": []
   },
   "outputs": [],
   "source": [
    "valid_generator.class_indices"
   ]
  },
  {
   "cell_type": "markdown",
   "metadata": {
    "papermill": {
     "duration": 0.13834,
     "end_time": "2021-01-07T18:30:07.299243",
     "exception": false,
     "start_time": "2021-01-07T18:30:07.160903",
     "status": "completed"
    },
    "tags": []
   },
   "source": [
    "# Model"
   ]
  },
  {
   "cell_type": "code",
   "execution_count": null,
   "metadata": {
    "execution": {
     "iopub.execute_input": "2021-01-07T18:30:07.583535Z",
     "iopub.status.busy": "2021-01-07T18:30:07.582534Z",
     "iopub.status.idle": "2021-01-07T18:30:07.584988Z",
     "shell.execute_reply": "2021-01-07T18:30:07.585495Z"
    },
    "papermill": {
     "duration": 0.148457,
     "end_time": "2021-01-07T18:30:07.585624",
     "exception": false,
     "start_time": "2021-01-07T18:30:07.437167",
     "status": "completed"
    },
    "tags": []
   },
   "outputs": [],
   "source": [
    "def modelEfficientNetB0():\n",
    "    \n",
    "    model = models.Sequential()\n",
    "    model.add(EfficientNetB0(include_top = False, weights = \"imagenet\",\n",
    "                            input_shape=(IMG_SIZE,IMG_SIZE, 3)))\n",
    "    model.add(layers.GlobalAveragePooling2D())\n",
    "    model.add(layers.Dense(5, activation = \"softmax\"))\n",
    "    \n",
    "    return model "
   ]
  },
  {
   "cell_type": "code",
   "execution_count": null,
   "metadata": {
    "execution": {
     "iopub.execute_input": "2021-01-07T18:30:07.869873Z",
     "iopub.status.busy": "2021-01-07T18:30:07.869289Z",
     "iopub.status.idle": "2021-01-07T18:30:14.412582Z",
     "shell.execute_reply": "2021-01-07T18:30:14.411955Z"
    },
    "papermill": {
     "duration": 6.688217,
     "end_time": "2021-01-07T18:30:14.412697",
     "exception": false,
     "start_time": "2021-01-07T18:30:07.724480",
     "status": "completed"
    },
    "tags": []
   },
   "outputs": [],
   "source": [
    "model = modelEfficientNetB0()"
   ]
  },
  {
   "cell_type": "code",
   "execution_count": null,
   "metadata": {
    "execution": {
     "iopub.execute_input": "2021-01-07T18:30:14.702668Z",
     "iopub.status.busy": "2021-01-07T18:30:14.701740Z",
     "iopub.status.idle": "2021-01-07T18:30:14.733985Z",
     "shell.execute_reply": "2021-01-07T18:30:14.734454Z"
    },
    "papermill": {
     "duration": 0.179796,
     "end_time": "2021-01-07T18:30:14.734588",
     "exception": false,
     "start_time": "2021-01-07T18:30:14.554792",
     "status": "completed"
    },
    "tags": []
   },
   "outputs": [],
   "source": [
    "model.summary()"
   ]
  },
  {
   "cell_type": "code",
   "execution_count": null,
   "metadata": {
    "execution": {
     "iopub.execute_input": "2021-01-07T18:30:15.018782Z",
     "iopub.status.busy": "2021-01-07T18:30:15.017913Z",
     "iopub.status.idle": "2021-01-07T18:30:15.558837Z",
     "shell.execute_reply": "2021-01-07T18:30:15.557872Z"
    },
    "papermill": {
     "duration": 0.686665,
     "end_time": "2021-01-07T18:30:15.558948",
     "exception": false,
     "start_time": "2021-01-07T18:30:14.872283",
     "status": "completed"
    },
    "tags": []
   },
   "outputs": [],
   "source": [
    "from tensorflow.keras import utils\n",
    "\n",
    "utils.plot_model(model)"
   ]
  },
  {
   "cell_type": "markdown",
   "metadata": {
    "papermill": {
     "duration": 0.138565,
     "end_time": "2021-01-07T18:30:15.840027",
     "exception": false,
     "start_time": "2021-01-07T18:30:15.701462",
     "status": "completed"
    },
    "tags": []
   },
   "source": [
    "## Callbacks\n",
    "\n",
    "**ModelCheckpoint**: Callback to save the Keras model or model weights at some frequency.\n",
    "\n",
    "**EarlyStopping**: Stop training when a monitored metric has stopped improving.\n",
    "\n",
    "**ReduceLROnPlateau**: Reduce learning rate when a metric has stopped improving.\n"
   ]
  },
  {
   "cell_type": "code",
   "execution_count": null,
   "metadata": {
    "execution": {
     "iopub.execute_input": "2021-01-07T18:30:16.135365Z",
     "iopub.status.busy": "2021-01-07T18:30:16.133843Z",
     "iopub.status.idle": "2021-01-07T18:30:16.136225Z",
     "shell.execute_reply": "2021-01-07T18:30:16.136720Z"
    },
    "papermill": {
     "duration": 0.153629,
     "end_time": "2021-01-07T18:30:16.136844",
     "exception": false,
     "start_time": "2021-01-07T18:30:15.983215",
     "status": "completed"
    },
    "tags": []
   },
   "outputs": [],
   "source": [
    "model_check = ModelCheckpoint(\n",
    "                            \"./firstTry.h5\",\n",
    "                            monitor = \"val_loss\",\n",
    "                            verbose = 1,\n",
    "                            save_best_only = True,\n",
    "                            save_weights_only = False,\n",
    "                            mode = \"min\")"
   ]
  },
  {
   "cell_type": "code",
   "execution_count": null,
   "metadata": {
    "execution": {
     "iopub.execute_input": "2021-01-07T18:30:16.420927Z",
     "iopub.status.busy": "2021-01-07T18:30:16.420087Z",
     "iopub.status.idle": "2021-01-07T18:30:16.423002Z",
     "shell.execute_reply": "2021-01-07T18:30:16.423456Z"
    },
    "papermill": {
     "duration": 0.14745,
     "end_time": "2021-01-07T18:30:16.423588",
     "exception": false,
     "start_time": "2021-01-07T18:30:16.276138",
     "status": "completed"
    },
    "tags": []
   },
   "outputs": [],
   "source": [
    "early_stop= EarlyStopping(\n",
    "                                monitor = \"val_loss\",\n",
    "                                min_delta=0.001,\n",
    "                                patience=3,\n",
    "                                verbose=1,\n",
    "                                mode=\"min\",\n",
    "                                #baseline=None,\n",
    "                                restore_best_weights=False)"
   ]
  },
  {
   "cell_type": "code",
   "execution_count": null,
   "metadata": {
    "execution": {
     "iopub.execute_input": "2021-01-07T18:30:16.727913Z",
     "iopub.status.busy": "2021-01-07T18:30:16.727037Z",
     "iopub.status.idle": "2021-01-07T18:30:16.731076Z",
     "shell.execute_reply": "2021-01-07T18:30:16.730579Z"
    },
    "papermill": {
     "duration": 0.16715,
     "end_time": "2021-01-07T18:30:16.731173",
     "exception": false,
     "start_time": "2021-01-07T18:30:16.564023",
     "status": "completed"
    },
    "tags": []
   },
   "outputs": [],
   "source": [
    "reduce_lr = ReduceLROnPlateau(\n",
    "                                monitor=\"val_loss\",\n",
    "                                factor=0.1,\n",
    "                                patience=3,\n",
    "                                verbose=1,\n",
    "                                mode=\"min\",\n",
    "                                min_delta=0.0001,\n",
    "                                #cooldown=0,\n",
    "                                #min_lr=0\n",
    ")"
   ]
  },
  {
   "cell_type": "code",
   "execution_count": null,
   "metadata": {
    "execution": {
     "iopub.execute_input": "2021-01-07T18:30:17.034635Z",
     "iopub.status.busy": "2021-01-07T18:30:17.033476Z",
     "iopub.status.idle": "2021-01-07T18:30:17.041436Z",
     "shell.execute_reply": "2021-01-07T18:30:17.040944Z"
    },
    "papermill": {
     "duration": 0.169955,
     "end_time": "2021-01-07T18:30:17.041547",
     "exception": false,
     "start_time": "2021-01-07T18:30:16.871592",
     "status": "completed"
    },
    "tags": []
   },
   "outputs": [],
   "source": [
    "model.compile(optimizer = \"adam\",\n",
    "            loss = \"categorical_crossentropy\",\n",
    "            metrics = [\"accuracy\"])"
   ]
  },
  {
   "cell_type": "code",
   "execution_count": null,
   "metadata": {
    "execution": {
     "iopub.execute_input": "2021-01-07T18:30:17.333764Z",
     "iopub.status.busy": "2021-01-07T18:30:17.333051Z",
     "iopub.status.idle": "2021-01-07T20:10:42.619747Z",
     "shell.execute_reply": "2021-01-07T20:10:42.612327Z"
    },
    "papermill": {
     "duration": 6025.437249,
     "end_time": "2021-01-07T20:10:42.619926",
     "exception": false,
     "start_time": "2021-01-07T18:30:17.182677",
     "status": "completed"
    },
    "tags": []
   },
   "outputs": [],
   "source": [
    "history = model.fit_generator(train_generator,\n",
    "                            epochs = 10,\n",
    "                            validation_data = valid_generator,\n",
    "                             callbacks = [model_check,early_stop,reduce_lr])\n"
   ]
  },
  {
   "cell_type": "code",
   "execution_count": null,
   "metadata": {
    "execution": {
     "iopub.execute_input": "2021-01-07T20:10:46.570037Z",
     "iopub.status.busy": "2021-01-07T20:10:46.563074Z",
     "iopub.status.idle": "2021-01-07T20:10:46.758326Z",
     "shell.execute_reply": "2021-01-07T20:10:46.758867Z"
    },
    "papermill": {
     "duration": 2.000141,
     "end_time": "2021-01-07T20:10:46.758997",
     "exception": false,
     "start_time": "2021-01-07T20:10:44.758856",
     "status": "completed"
    },
    "tags": []
   },
   "outputs": [],
   "source": [
    "plt.figure(figsize=(15, 5))\n",
    "plt.plot(history.history['accuracy'], 'b*-', label=\"train_acc\")\n",
    "plt.plot(history.history['val_accuracy'], 'r*-', label=\"val_acc\")\n",
    "plt.grid()\n",
    "plt.title(\"train_acc vs val_acc\")\n",
    "plt.ylabel(\"Accuracy\")\n",
    "plt.xlabel(\"Epochs\")\n",
    "plt.legend()\n",
    "plt.show()"
   ]
  },
  {
   "cell_type": "code",
   "execution_count": null,
   "metadata": {
    "execution": {
     "iopub.execute_input": "2021-01-07T20:10:51.073043Z",
     "iopub.status.busy": "2021-01-07T20:10:51.071050Z",
     "iopub.status.idle": "2021-01-07T20:10:51.257360Z",
     "shell.execute_reply": "2021-01-07T20:10:51.257965Z"
    },
    "papermill": {
     "duration": 2.27303,
     "end_time": "2021-01-07T20:10:51.258123",
     "exception": false,
     "start_time": "2021-01-07T20:10:48.985093",
     "status": "completed"
    },
    "tags": []
   },
   "outputs": [],
   "source": [
    "plt.figure(figsize=(15, 5))\n",
    "plt.plot(history.history['loss'], 'b*-', label=\"train_loss\")\n",
    "plt.plot(history.history['val_loss'], 'r*-', label=\"val_loss\")\n",
    "plt.grid()\n",
    "plt.title(\"train_loss - val_loss\")\n",
    "plt.ylabel(\"Loss\")\n",
    "plt.xlabel(\"Epochs\")\n",
    "plt.legend()\n",
    "plt.show()"
   ]
  },
  {
   "cell_type": "markdown",
   "metadata": {
    "papermill": {
     "duration": 1.828322,
     "end_time": "2021-01-07T20:10:54.971082",
     "exception": false,
     "start_time": "2021-01-07T20:10:53.142760",
     "status": "completed"
    },
    "tags": []
   },
   "source": [
    "## Prediction"
   ]
  },
  {
   "cell_type": "code",
   "execution_count": null,
   "metadata": {},
   "outputs": [],
   "source": [
    "import os\n",
    "import cv2\n",
    "import json\n",
    "import numpy as np\n",
    "import pandas as pd\n",
    "import seaborn as sns\n",
    "from tensorflow import keras\n",
    "import matplotlib.pyplot as plt\n",
    "# model = keras.models.load_model(\"./firstTry.h5\")"
   ]
  },
  {
   "cell_type": "code",
   "execution_count": null,
   "metadata": {
    "papermill": {
     "duration": 1.795614,
     "end_time": "2021-01-07T20:10:58.585536",
     "exception": false,
     "start_time": "2021-01-07T20:10:56.789922",
     "status": "completed"
    },
    "tags": []
   },
   "outputs": [],
   "source": [
    "preds = []\n",
    "ss = pd.read_csv(WORK_DIR + \"sample_submission.csv\")\n",
    "for image in ss.image_id:\n",
    "    img = keras.preprocessing.image.load_img(WORK_DIR + \"test_images/\" + image)\n",
    "    img = keras.preprocessing.image.img_to_array(img)\n",
    "    img = keras.preprocessing.image.smart_resize(img, (IMG_SIZE, IMG_SIZE))\n",
    "    img = np.expand_dims(img, 0)\n",
    "    prediction = model.predict(img)\n",
    "    preds.append(np.argmax(prediction))\n",
    "\n",
    "my_submission = pd.DataFrame({'image_id': ss.image_id, 'label': preds})\n",
    "my_submission.to_csv('submission.csv', index=False) "
   ]
  },
  {
   "cell_type": "code",
   "execution_count": null,
   "metadata": {},
   "outputs": [],
   "source": [
    "my_submission"
   ]
  }
 ],
 "metadata": {
  "kernelspec": {
   "display_name": "Python 3",
   "language": "python",
   "name": "python3"
  },
  "language_info": {
   "codemirror_mode": {
    "name": "ipython",
    "version": 3
   },
   "file_extension": ".py",
   "mimetype": "text/x-python",
   "name": "python",
   "nbconvert_exporter": "python",
   "pygments_lexer": "ipython3",
   "version": "3.6.5"
  },
  "papermill": {
   "duration": 6105.288132,
   "end_time": "2021-01-07T20:11:02.004253",
   "environment_variables": {},
   "exception": null,
   "input_path": "__notebook__.ipynb",
   "output_path": "__notebook__.ipynb",
   "parameters": {},
   "start_time": "2021-01-07T18:29:16.716121",
   "version": "2.1.0"
  }
 },
 "nbformat": 4,
 "nbformat_minor": 4
}
